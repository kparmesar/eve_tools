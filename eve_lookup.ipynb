{
 "cells": [
  {
   "cell_type": "code",
   "execution_count": null,
   "metadata": {
    "collapsed": true
   },
   "outputs": [],
   "source": [
    "#! python3\n",
    "import pandas as pd\n",
    "import re"
   ]
  },
  {
   "cell_type": "code",
   "execution_count": null,
   "outputs": [],
   "source": [
    "## Open exomes file\n",
    "exomes = pd.read_csv(r'TRPC6_NPHS1_NPHS2_LMX1B_196KCLexomes.txt', sep='\\t', header=None)\n",
    "\n",
    "gene_list = [       ## list of genes to be analysed\n",
    "    'TRPC6',\n",
    "    'NPHS1',\n",
    "    'NPHS2',\n",
    "    'LMX1B'\n",
    "]\n",
    "\n",
    "## Create empty dataframes for later use\n",
    "protein_df = pd.DataFrame()\n",
    "all_pred_df = pd.DataFrame(columns=exomes.columns)\n",
    "\n",
    "## Create protein_df dataframe to correlate genes with their respective protein IDs in EVE database\n",
    "with open(r'identifiers.txt', 'r') as f:\n",
    "    identifiers = f.read()\n",
    "protein_list = identifiers[2:-2].split('},{')\n",
    "protein_list = [x.split(',') for x in protein_list]\n",
    "protein_list = [x[0].split(':') + x[1].split(':') for x in protein_list]\n",
    "for i in range(len(protein_list)):\n",
    "    protein_df.loc[i, protein_list[i][0].strip('\"')] = protein_list[i][1].strip('\"')\n",
    "    protein_df.loc[i, protein_list[i][2].strip('\"')] = protein_list[i][3].strip('\"')"
   ],
   "metadata": {
    "collapsed": false,
    "pycharm": {
     "name": "#%%\n"
    }
   }
  },
  {
   "cell_type": "code",
   "execution_count": null,
   "outputs": [],
   "source": [
    "## Use regex to extract variant from column in file\n",
    "for index, row in exomes.iterrows():\n",
    "    variant = re.search('[A-Z]d+[A-Z],$', row[10])\n",
    "    try:\n",
    "        exomes.loc[index,'variant'] = variant.group(0)[:-1]\n",
    "    except AttributeError:\n",
    "        exomes.loc[index,'variant'] = 'NA'\n",
    "        print(\"Regex not found:\", index, row[10])\n",
    "\n",
    "## Merge EVE pred data with exomes data\n",
    "for gene in gene_list:\n",
    "        ## Select gene from gene list\n",
    "    df = protein_df[protein_df['gene_symbol'] == gene]\n",
    "        ## Correlate with EVE protein file\n",
    "    protein = df['protein_symbol'].to_list()[0]\n",
    "    pred_file = pd.read_csv(f'{protein}.csv')\n",
    "        ## Match EVE variant with exomes variant format\n",
    "    pred_file['variant'] = pred_file['wt_aa'].astype(str)+pred_file['position'].astype(str)+pred_file['mt_aa'].astype(str)\n",
    "        ## Merge one gene at a time to avoid duplicate columns\n",
    "    select_exomes = exomes[exomes[8] == gene]\n",
    "    select_exomes = pd.merge(select_exomes, pred_file[['variant', 'EVE_scores_ASM', 'uncertainty_ASM']], on='variant', how='left')\n",
    "        ## Combine info into all_pred_df\n",
    "    all_pred_df = all_pred_df.append(select_exomes, ignore_index=True)"
   ],
   "metadata": {
    "collapsed": false,
    "pycharm": {
     "name": "#%%\n"
    }
   }
  },
  {
   "cell_type": "code",
   "execution_count": null,
   "outputs": [],
   "source": [
    "## Save all_pred_df to csv and preview\n",
    "all_pred_df.to_csv(r'196KCLexomes_pred.txt', sep='\\t')\n",
    "all_pred_df.head()"
   ],
   "metadata": {
    "collapsed": false,
    "pycharm": {
     "name": "#%%\n"
    }
   }
  },
  {
   "cell_type": "code",
   "execution_count": null,
   "outputs": [],
   "source": [],
   "metadata": {
    "collapsed": false,
    "pycharm": {
     "name": "#%%\n"
    }
   }
  }
 ],
 "metadata": {
  "kernelspec": {
   "name": "pycharm-8e89c712",
   "language": "python",
   "display_name": "PyCharm (stonks)"
  },
  "language_info": {
   "codemirror_mode": {
    "name": "ipython",
    "version": 2
   },
   "file_extension": ".py",
   "mimetype": "text/x-python",
   "name": "python",
   "nbconvert_exporter": "python",
   "pygments_lexer": "ipython2",
   "version": "2.7.6"
  }
 },
 "nbformat": 4,
 "nbformat_minor": 0
}